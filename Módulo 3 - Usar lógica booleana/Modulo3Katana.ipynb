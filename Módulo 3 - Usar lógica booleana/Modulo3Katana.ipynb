{
 "cells": [
  {
   "cell_type": "markdown",
   "metadata": {},
   "source": [
    "#Ejercicio1"
   ]
  },
  {
   "cell_type": "markdown",
   "metadata": {},
   "source": [
    "Para este ejercicio, escribirás una lógica condicional que imprima una advertencia si un asteroide se acerca a la Tierra demasiado rápido. La velocidad del asteroide varía dependiendo de lo cerca que esté del sol, y cualquier velocidad superior a 25 kilómetros por segundo (km/s) merece una advertencia.\n",
    "\n",
    "Un asteroide se acerca, y viaja a una velocidad de 49 km/s."
   ]
  },
  {
   "cell_type": "code",
   "execution_count": 3,
   "metadata": {},
   "outputs": [
    {
     "name": "stdout",
     "output_type": "stream",
     "text": [
      "Todo con normalidad\n"
     ]
    }
   ],
   "source": [
    "a = 25\n",
    "b = int(input(\"Introduce la velocidad del meteorito.\"))\n",
    "if b>a:\n",
    "    print(\"Advertencia, hay un asteroide muy cerca de la tierra demasiado rapido!!\")\n",
    "else: \n",
    "    print(\"No hay riesgo, todo con normalidad\")"
   ]
  },
  {
   "cell_type": "markdown",
   "metadata": {},
   "source": [
    "#Ejercicio 2"
   ]
  },
  {
   "cell_type": "markdown",
   "metadata": {},
   "source": [
    "Si un asteroide entra en la atmósfera de la Tierra a una velocidad mayor o igual a 20 km/s, a veces produce un rayo de luz que se puede ver desde la Tierra. Escribe la lógica condicional que usa declaraciones if, else, y elif para alertar a las personas de todo el mundo que deben buscar un asteroide en el cielo. ¡Hay uno que se dirige a la tierra ahora a una velocidad de 19 km/s!"
   ]
  },
  {
   "cell_type": "code",
   "execution_count": 5,
   "metadata": {},
   "outputs": [
    {
     "name": "stdout",
     "output_type": "stream",
     "text": [
      "Busquen un asteroide en el cielo\n"
     ]
    }
   ],
   "source": [
    "va= 20\n",
    "ast=19\n",
    "\n",
    "if(ast>=va):\n",
    "    print(\"Busquen un asteroide en el cielo\")\n",
    "else:\n",
    "    print(\"todo bien\")\n"
   ]
  },
  {
   "cell_type": "code",
   "execution_count": 9,
   "metadata": {},
   "outputs": [
    {
     "name": "stdout",
     "output_type": "stream",
     "text": [
      "Busquen un asteroide en el cielo!!\n"
     ]
    }
   ],
   "source": [
    "#Otra alternativa\n",
    "va= 20\n",
    "ast=21\n",
    "\n",
    "if(ast>va):\n",
    "    print(\"Busquen un asteroide en el cielo!!\")\n",
    "elif(ast==va):\n",
    "    print(\"Busquen un asteroide en el cielo!!\")\n",
    "else:\n",
    "    print(\"todo bien\")"
   ]
  },
  {
   "cell_type": "markdown",
   "metadata": {},
   "source": [
    "#Ejercicio 3\n"
   ]
  },
  {
   "cell_type": "code",
   "execution_count": 17,
   "metadata": {},
   "outputs": [
    {
     "name": "stdout",
     "output_type": "stream",
     "text": [
      "todo bien!\n"
     ]
    }
   ],
   "source": [
    "tamano_aste=10\n",
    "velocidad_aste=10\n",
    "\n",
    "if velocidad_aste>25 and tamano_aste>25:\n",
    "    print(\"cuidado hay un asteroide peligroso aproximandose.\")\n",
    "elif velocidad_aste>=20:\n",
    "    print(\"cuidado se pueden ver luces en el cielo\")\n",
    "elif tamano_aste<25:\n",
    "    print(\"todo bien!\")\n",
    "else:\n",
    "    print(\"Todo bien\")\n"
   ]
  }
 ],
 "metadata": {
  "interpreter": {
   "hash": "2be5faf79681da6f2a61fdfdd5405d65d042280f7fba6178067603e3a2925119"
  },
  "kernelspec": {
   "display_name": "Python 3.10.2 64-bit",
   "language": "python",
   "name": "python3"
  },
  "language_info": {
   "codemirror_mode": {
    "name": "ipython",
    "version": 3
   },
   "file_extension": ".py",
   "mimetype": "text/x-python",
   "name": "python",
   "nbconvert_exporter": "python",
   "pygments_lexer": "ipython3",
   "version": "3.10.2"
  },
  "orig_nbformat": 4
 },
 "nbformat": 4,
 "nbformat_minor": 2
}
